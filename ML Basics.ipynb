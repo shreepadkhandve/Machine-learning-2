{
 "cells": [
  {
   "cell_type": "markdown",
   "metadata": {},
   "source": [
    "# Machine Learning"
   ]
  },
  {
   "cell_type": "markdown",
   "metadata": {},
   "source": [
    "machine learning is class of algorithm which is data driven which take decision like human according to historical data."
   ]
  },
  {
   "cell_type": "markdown",
   "metadata": {},
   "source": [
    "# Machine Learning algorithms"
   ]
  },
  {
   "cell_type": "markdown",
   "metadata": {},
   "source": [
    "Supervised learning algorithm - Supervised learning: Learning from the know label data to create a model then predicting target class for the given input data."
   ]
  },
  {
   "cell_type": "raw",
   "metadata": {},
   "source": [
    "1.Linear regression\n",
    "2.Logistic Regression\n",
    "3.plynomial regression\n",
    "4.Decision trees\n",
    "5.Support vector machine (SVM)\n",
    "6.k-Nearest Neighbors\n",
    "7.Naive Bayes\n",
    "8.Random forest\n",
    "9.SVM for regression"
   ]
  },
  {
   "cell_type": "markdown",
   "metadata": {},
   "source": [
    "Unsupervised learning algorithm - Learning from the unlabeled data to differentiating the given input data."
   ]
  },
  {
   "cell_type": "raw",
   "metadata": {},
   "source": [
    "1.K – means clustering\n",
    "2.Hierarchical clustering\n",
    "3.Hidden Markov models\n",
    "4.Fuzzy or C - means clustering"
   ]
  },
  {
   "cell_type": "markdown",
   "metadata": {},
   "source": [
    "# Data Science"
   ]
  },
  {
   "cell_type": "raw",
   "metadata": {},
   "source": [
    "Data is going to increase day by day as we make decision, 2.5*10^18 bytes of data is generated everyday , it also known as data driven science it is a field to process and extract meaningful insights from data in various forms , either structured or unstructured."
   ]
  },
  {
   "cell_type": "markdown",
   "metadata": {},
   "source": [
    "# Data Science Peripherals"
   ]
  },
  {
   "cell_type": "raw",
   "metadata": {},
   "source": [
    "Statistics\n",
    "Programming languages\n",
    "Software\n",
    "Machine learning\n",
    "Big Data"
   ]
  },
  {
   "cell_type": "markdown",
   "metadata": {},
   "source": [
    "# Features of Machining Learning"
   ]
  },
  {
   "cell_type": "raw",
   "metadata": {},
   "source": [
    "1.It uses data to detect pattern in a dataset adjust program accordingly.\n",
    "2.It learn automatically when exposed to new data.\n",
    "3.It enables computers to find hidden insights.\n",
    "4.Automates analytical model building."
   ]
  },
  {
   "cell_type": "markdown",
   "metadata": {},
   "source": [
    "# Applications of Machining Learning"
   ]
  },
  {
   "cell_type": "raw",
   "metadata": {},
   "source": [
    "1.Google map - Automatically give information about trafic.\n",
    "2.Facebook - Facebook tagging tag to your friend automatically when you upload picture.\n",
    "3.Personal assistant - Help you for getting any information.(Alexa,SIRI,Google,Cortana)\n",
    "4.Uber - To get nearest restaurent as per your location and get delivered quickly.\n",
    "5.Amazon - Product recommendation system.\n",
    "6.Tesla - Self driving car. It uses lot of sensors to get unstructured data.\n",
    "7.GNMT - Google neural machine translation, It automatically translate sentense from one language to another language. It is done by NLP-Natural language processing."
   ]
  },
  {
   "cell_type": "markdown",
   "metadata": {},
   "source": [
    "# Working cycle of Machining Learning"
   ]
  },
  {
   "cell_type": "raw",
   "metadata": {},
   "source": [
    "1.Collecting data - Data is collected from various sources.\n",
    "2.Data preprocessing or Wrangling - Data structuring, cleaning.\n",
    "3.Analyze data - Analyze data for training.\n",
    "4.Train algorithm - Training the model using data.\n",
    "5.Test algorithm - To check our model is predicting correctly or not.\n",
    "6.Optimization - To check the accuracy and optimize occured error.\n",
    "7.Deployment - Deploy our model to real word use."
   ]
  },
  {
   "cell_type": "markdown",
   "metadata": {},
   "source": [
    "# Important python libraries"
   ]
  },
  {
   "cell_type": "raw",
   "metadata": {},
   "source": [
    "1.Scikit-learn - data mining and analysis\n",
    "2.Pandas - data processing\n",
    "3.Numpy - matrix mulplication or numerical computations\n",
    "4.Matplotlib - visualizations:- bar plots, scatter plots, line charts, histogram, pie charts\n",
    "5.seaborn - visualizations"
   ]
  },
  {
   "cell_type": "markdown",
   "metadata": {},
   "source": [
    "# Types of Machine Learning"
   ]
  },
  {
   "cell_type": "markdown",
   "metadata": {},
   "source": [
    "1.Supervised learning\n",
    "2.Unsupervised learning\n",
    "3.Reinforcement learning"
   ]
  },
  {
   "cell_type": "raw",
   "metadata": {},
   "source": [
    "Supervised learning - Learning from the know label data to create a model then predicting target class for the given input data.\n",
    "\n",
    "Unsupervised learning - Learning from the unlabeled data to differentiating the given input data.\n",
    "\n",
    "Reinforcement learning - Learning by space and envirnment and with the previous experience and actions."
   ]
  },
  {
   "cell_type": "markdown",
   "metadata": {},
   "source": [
    "# Supervised Learning"
   ]
  },
  {
   "cell_type": "raw",
   "metadata": {},
   "source": [
    "1.Linear Regression\n",
    "2.Logistic Regression\n",
    "3.Decision Tree\n",
    "4.Random Forest\n",
    "5.Naive Bayes Classifier"
   ]
  },
  {
   "cell_type": "markdown",
   "metadata": {},
   "source": [
    "Linear Regression "
   ]
  },
  {
   "cell_type": "raw",
   "metadata": {},
   "source": [
    "It is the one of the most powerful technique used for predicting unknown value of a variable(Dependent variable) from the regression line is that best fits the data (in terms of smallest overall distance from the line to the points).\n",
    "\n",
    "formula\n",
    "\n",
    "y = mx+c\n",
    "where,\n",
    "y = dependent variable\n",
    "x = independent variable\n",
    "m = slope or Gradient (change in Y / change in X)\n",
    "c = y-intercept (value of y when x=0)"
   ]
  },
  {
   "cell_type": "code",
   "execution_count": 96,
   "metadata": {},
   "outputs": [],
   "source": [
    "import pandas as pd\n",
    "import numpy as np\n",
    "from sklearn import linear_model\n",
    "import matplotlib.pyplot as plt"
   ]
  },
  {
   "cell_type": "code",
   "execution_count": 97,
   "metadata": {},
   "outputs": [],
   "source": [
    "d = {'area':[2600, 3000, 3200, 3600, 4000],'price':[550000, 565000, 610000, 680000, 725000]}\n",
    "data = pd.DataFrame.from_dict(d)"
   ]
  },
  {
   "cell_type": "code",
   "execution_count": 102,
   "metadata": {},
   "outputs": [
    {
     "data": {
      "text/plain": [
       "LinearRegression(copy_X=True, fit_intercept=True, n_jobs=1, normalize=False)"
      ]
     },
     "execution_count": 102,
     "metadata": {},
     "output_type": "execute_result"
    }
   ],
   "source": [
    "model = linear_model.LinearRegression()\n",
    "model.fit(data[['area']], data[['price']])"
   ]
  },
  {
   "cell_type": "code",
   "execution_count": 103,
   "metadata": {},
   "outputs": [
    {
     "data": {
      "text/plain": [
       "<matplotlib.collections.PathCollection at 0x1ac252245f8>"
      ]
     },
     "execution_count": 103,
     "metadata": {},
     "output_type": "execute_result"
    },
    {
     "data": {
      "image/png": "[encoded data removed]",
      "text/plain": [
       "<matplotlib.figure.Figure at 0x1ac23e320b8>"
      ]
     },
     "metadata": {},
     "output_type": "display_data"
    }
   ],
   "source": [
    "%matplotlib inline\n",
    "plt.scatter(data.area, data.price, color='red', marker='+')"
   ]
  },
  {
   "cell_type": "code",
   "execution_count": 104,
   "metadata": {},
   "outputs": [
    {
     "data": {
      "text/plain": [
       "[<matplotlib.lines.Line2D at 0x1ac25664c88>]"
      ]
     },
     "execution_count": 104,
     "metadata": {},
     "output_type": "execute_result"
    },
    {
     "data": {
      "image/png": "[encoded data removed]",
      "text/plain": [
       "<matplotlib.figure.Figure at 0x1ac25685550>"
      ]
     },
     "metadata": {},
     "output_type": "display_data"
    }
   ],
   "source": [
    "plt.scatter(data.area, data.price)\n",
    "plt.plot(data.area, model.predict(data[['area']]), color = 'blue')"
   ]
  },
  {
   "cell_type": "code",
   "execution_count": 106,
   "metadata": {},
   "outputs": [],
   "source": [
    "# real world input\n",
    "y_after_new_input = model.predict([[7000]])"
   ]
  },
  {
   "cell_type": "code",
   "execution_count": 107,
   "metadata": {},
   "outputs": [
    {
     "data": {
      "text/plain": [
       "array([[1131130.1369863]])"
      ]
     },
     "execution_count": 107,
     "metadata": {},
     "output_type": "execute_result"
    }
   ],
   "source": [
    "y_after_new_input"
   ]
  },
  {
   "cell_type": "markdown",
   "metadata": {},
   "source": [
    "# Unsupervised Learning"
   ]
  },
  {
   "cell_type": "markdown",
   "metadata": {},
   "source": [
    "Training data is collection of information without any label."
   ]
  },
  {
   "cell_type": "markdown",
   "metadata": {},
   "source": [
    "# Clustering  "
   ]
  },
  {
   "cell_type": "raw",
   "metadata": {},
   "source": [
    "The process of dividing the datasets into groups, consisting of similar data-points."
   ]
  },
  {
   "cell_type": "markdown",
   "metadata": {},
   "source": [
    "Types of clustering"
   ]
  },
  {
   "cell_type": "raw",
   "metadata": {},
   "source": [
    "Exclusive Clustering\n",
    "Overlapping Clustering\n",
    "Hierarchical Clustering"
   ]
  },
  {
   "cell_type": "raw",
   "metadata": {},
   "source": [
    "Exclusive Clustering - The exclusive clustering is the hard clustering in which items belong to exclusively one cluster not several cluster.\n",
    "Example - k-means clustering"
   ]
  },
  {
   "cell_type": "raw",
   "metadata": {},
   "source": [
    "Overlapping Clustering - The overlapping clustering is also known as soft cluster and items can belongs to multiple cluster.\n",
    "Example - C-means clustering"
   ]
  },
  {
   "cell_type": "raw",
   "metadata": {},
   "source": [
    "Hierarchical Clustering - when two cluster have tree like relationship or parent-child relationship so it is known as hierarchical clustering. groups similar objects.\n",
    "Example - K-means clustering"
   ]
  },
  {
   "cell_type": "markdown",
   "metadata": {},
   "source": [
    "K-means Clustering"
   ]
  },
  {
   "cell_type": "raw",
   "metadata": {},
   "source": [
    "The process by which the objects are classified into a predefined number of groups so that they are as much dissimmilar as possible from one group to another group, but as much similar as possible within each group."
   ]
  },
  {
   "cell_type": "markdown",
   "metadata": {},
   "source": [
    "Steps in K-means Clustering"
   ]
  },
  {
   "cell_type": "raw",
   "metadata": {},
   "source": [
    "1.first step is to decide number of clusters to be made.(guessing)\n",
    "2.Then we provide the centroides of all the clusters.(guessing)\n",
    "3.The models calculate the euclidian distance of the points from each centroid and assigns the point to all the closest cluster.(euclidian distance - square root of square of distance).\n",
    "4.Next the centroids are calculated again, when we have our new cluster.\n",
    "5.The distance of the points from the centre of clusters are calculated again and points are assigned again to the closest cluster.\n",
    "6.And then the new centroid for the cluster is calculated.\n",
    "7.These steps are repeated until we have a reepetition in centroids or new centroids are very close to the previous ones."
   ]
  },
  {
   "cell_type": "markdown",
   "metadata": {},
   "source": [
    "How to decide the number of clusters"
   ]
  },
  {
   "cell_type": "code",
   "execution_count": null,
   "metadata": {},
   "outputs": [],
   "source": [
    "The Elbow method:\n",
    "    "
   ]
  }
 ],
 "metadata": {
  "kernelspec": {
   "display_name": "Python 3",
   "language": "python",
   "name": "python3"
  },
  "language_info": {
   "codemirror_mode": {
    "name": "ipython",
    "version": 3
   },
   "file_extension": ".py",
   "mimetype": "text/x-python",
   "name": "python",
   "nbconvert_exporter": "python",
   "pygments_lexer": "ipython3",
   "version": "3.6.4"
  }
 },
 "nbformat": 4,
 "nbformat_minor": 2
}
