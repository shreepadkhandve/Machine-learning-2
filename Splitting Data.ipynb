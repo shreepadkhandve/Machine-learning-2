{
 "cells": [
  {
   "cell_type": "code",
   "execution_count": 96,
   "metadata": {},
   "outputs": [],
   "source": [
    "from sklearn.model_selection import train_test_split\n",
    "import pandas as pd\n",
    "from sklearn.preprocessing import LabelEncoder\n",
    "from sklearn.linear_model import LinearRegression\n",
    "from sklearn.metrics import mean_squared_error"
   ]
  },
  {
   "cell_type": "code",
   "execution_count": 97,
   "metadata": {},
   "outputs": [],
   "source": [
    "data = pd.read_csv('loan_risk_prediction.csv')"
   ]
  },
  {
   "cell_type": "code",
   "execution_count": 98,
   "metadata": {},
   "outputs": [
    {
     "data": {
      "text/plain": [
       "0"
      ]
     },
     "execution_count": 98,
     "metadata": {},
     "output_type": "execute_result"
    }
   ],
   "source": [
    "data['LoanAmount'] = data.LoanAmount.fillna(0)\n",
    "data['Dependents'] = data.Dependents.fillna(0)\n",
    "data['Loan_Amount_Term'] = data.Loan_Amount_Term.fillna(360)\n",
    "\n",
    "data.Loan_Amount_Term.isna().sum()"
   ]
  },
  {
   "cell_type": "code",
   "execution_count": 99,
   "metadata": {},
   "outputs": [],
   "source": [
    "encoder = LabelEncoder()\n",
    "x = data[['Dependents','ApplicantIncome','CoapplicantIncome','LoanAmount','Loan_Amount_Term']]\n",
    "\n",
    "data['Loan_Status'] = encoder.fit_transform(data['Loan_Status'])\n",
    "y = data[['Loan_Status']]"
   ]
  },
  {
   "cell_type": "code",
   "execution_count": 100,
   "metadata": {},
   "outputs": [
    {
     "data": {
      "text/plain": [
       "Index(['Loan_ID', 'Gender', 'Married', 'Dependents', 'Education',\n",
       "       'Self_Employed', 'ApplicantIncome', 'CoapplicantIncome', 'LoanAmount',\n",
       "       'Loan_Amount_Term', 'Credit_History', 'Property_Area', 'Loan_Status'],\n",
       "      dtype='object')"
      ]
     },
     "execution_count": 100,
     "metadata": {},
     "output_type": "execute_result"
    }
   ],
   "source": [
    "data.columns"
   ]
  },
  {
   "cell_type": "code",
   "execution_count": 101,
   "metadata": {},
   "outputs": [],
   "source": [
    "x_train, x_test, y_train, y_test = train_test_split(x, y , test_size = 0.2)"
   ]
  },
  {
   "cell_type": "code",
   "execution_count": 102,
   "metadata": {},
   "outputs": [
    {
     "data": {
      "text/plain": [
       "LinearRegression(copy_X=True, fit_intercept=True, n_jobs=1, normalize=False)"
      ]
     },
     "execution_count": 102,
     "metadata": {},
     "output_type": "execute_result"
    }
   ],
   "source": [
    "model = LinearRegression()\n",
    "model.fit(x_train,y_train)"
   ]
  },
  {
   "cell_type": "code",
   "execution_count": 103,
   "metadata": {},
   "outputs": [
    {
     "data": {
      "text/plain": [
       "-0.009798185756801914"
      ]
     },
     "execution_count": 103,
     "metadata": {},
     "output_type": "execute_result"
    }
   ],
   "source": [
    "model.score(x_test,y_test)"
   ]
  },
  {
   "cell_type": "code",
   "execution_count": 104,
   "metadata": {},
   "outputs": [
    {
     "data": {
      "text/plain": [
       "array([[0.75546897],\n",
       "       [0.71702776],\n",
       "       [0.73580246],\n",
       "       [0.71136422],\n",
       "       [0.72090835],\n",
       "       [0.72031125],\n",
       "       [0.74120338],\n",
       "       [0.7204376 ],\n",
       "       [0.7499923 ],\n",
       "       [0.75980344],\n",
       "       [0.78720533],\n",
       "       [0.75802596],\n",
       "       [0.73395459],\n",
       "       [0.75506553],\n",
       "       [0.75677321],\n",
       "       [0.7655321 ],\n",
       "       [0.72385983],\n",
       "       [0.76007015],\n",
       "       [0.771035  ],\n",
       "       [0.75165576],\n",
       "       [0.73708431],\n",
       "       [0.68363218],\n",
       "       [0.7324826 ],\n",
       "       [0.73562426],\n",
       "       [0.73771887],\n",
       "       [0.71335062],\n",
       "       [0.74032544],\n",
       "       [0.69020254],\n",
       "       [0.74888012],\n",
       "       [0.72520502],\n",
       "       [0.66266049],\n",
       "       [0.69338683],\n",
       "       [0.71748433],\n",
       "       [0.73878863],\n",
       "       [0.72888266],\n",
       "       [0.74685593],\n",
       "       [0.74793741],\n",
       "       [0.71901954],\n",
       "       [0.75182731],\n",
       "       [0.71776306],\n",
       "       [0.65952731],\n",
       "       [0.66199836],\n",
       "       [0.73286659],\n",
       "       [0.6936363 ],\n",
       "       [0.714089  ],\n",
       "       [0.72845923],\n",
       "       [0.73535159],\n",
       "       [0.7283624 ],\n",
       "       [0.7147812 ],\n",
       "       [0.71759826],\n",
       "       [0.7592576 ],\n",
       "       [0.71122239],\n",
       "       [0.72140031],\n",
       "       [0.72487291],\n",
       "       [0.75661417],\n",
       "       [0.74114901],\n",
       "       [0.72867422],\n",
       "       [0.7178691 ],\n",
       "       [0.73585312],\n",
       "       [0.7989183 ],\n",
       "       [0.75233499],\n",
       "       [0.73871702],\n",
       "       [0.74638567],\n",
       "       [0.71430531],\n",
       "       [0.7034425 ],\n",
       "       [0.72892271],\n",
       "       [0.73614192],\n",
       "       [0.74344792],\n",
       "       [0.74996662],\n",
       "       [0.78737872],\n",
       "       [0.75956097],\n",
       "       [0.7114577 ],\n",
       "       [0.72227268],\n",
       "       [0.71079936],\n",
       "       [0.75026478],\n",
       "       [0.72518111],\n",
       "       [0.72429592],\n",
       "       [0.70351868],\n",
       "       [0.73967686],\n",
       "       [0.71808102],\n",
       "       [0.73707073],\n",
       "       [0.70104042],\n",
       "       [0.74313742],\n",
       "       [0.72488025],\n",
       "       [0.71342302],\n",
       "       [0.7580462 ],\n",
       "       [0.75161452],\n",
       "       [0.33375432],\n",
       "       [0.75627999],\n",
       "       [0.73673113],\n",
       "       [0.73440011],\n",
       "       [0.72574449],\n",
       "       [0.75587261],\n",
       "       [0.7479738 ],\n",
       "       [0.73770479],\n",
       "       [0.73173742],\n",
       "       [0.67309864],\n",
       "       [0.71227386],\n",
       "       [0.7288187 ],\n",
       "       [0.71920026],\n",
       "       [0.74054085],\n",
       "       [0.74599534],\n",
       "       [0.73478242],\n",
       "       [0.73138311],\n",
       "       [0.7291552 ],\n",
       "       [0.71178042],\n",
       "       [0.74667533],\n",
       "       [0.75154458],\n",
       "       [0.73136498],\n",
       "       [0.70043873],\n",
       "       [0.71726084],\n",
       "       [0.69757083],\n",
       "       [0.71994208],\n",
       "       [0.73941603],\n",
       "       [0.7482763 ],\n",
       "       [0.72356029],\n",
       "       [0.73656607],\n",
       "       [0.52442246],\n",
       "       [0.72155045],\n",
       "       [0.76096002],\n",
       "       [0.7577401 ],\n",
       "       [0.74968571],\n",
       "       [0.74370308],\n",
       "       [0.75289145],\n",
       "       [0.72980047],\n",
       "       [0.74948835],\n",
       "       [0.72488867],\n",
       "       [0.74421903],\n",
       "       [0.73991824],\n",
       "       [0.76086969],\n",
       "       [0.66896506],\n",
       "       [0.77996107],\n",
       "       [0.74915648],\n",
       "       [0.72504835],\n",
       "       [0.75764621],\n",
       "       [0.70999901],\n",
       "       [0.72480459],\n",
       "       [0.71895764],\n",
       "       [0.73335965],\n",
       "       [0.75138452],\n",
       "       [0.75045409],\n",
       "       [0.73241807],\n",
       "       [0.73824652],\n",
       "       [0.64587647],\n",
       "       [0.67824859],\n",
       "       [0.73073615],\n",
       "       [0.75579022],\n",
       "       [0.71011478],\n",
       "       [0.77912699],\n",
       "       [0.75009829],\n",
       "       [0.71639622],\n",
       "       [0.73310835],\n",
       "       [0.75202918],\n",
       "       [0.73219257],\n",
       "       [0.7595796 ],\n",
       "       [0.77535633],\n",
       "       [0.77542965],\n",
       "       [0.75324058],\n",
       "       [0.73860644],\n",
       "       [0.68561759],\n",
       "       [0.74814907],\n",
       "       [0.75057444],\n",
       "       [0.77446321],\n",
       "       [0.70591509],\n",
       "       [0.73427322],\n",
       "       [0.66509181],\n",
       "       [0.73953598],\n",
       "       [0.73507254],\n",
       "       [0.71325145],\n",
       "       [0.7102372 ],\n",
       "       [0.70955387],\n",
       "       [0.75692689],\n",
       "       [0.75467963],\n",
       "       [0.73387727],\n",
       "       [0.76527751],\n",
       "       [0.57355069],\n",
       "       [0.79146868],\n",
       "       [0.66895855],\n",
       "       [0.76394101],\n",
       "       [0.76606238],\n",
       "       [0.75091358],\n",
       "       [0.74415274],\n",
       "       [0.72919125],\n",
       "       [0.72542035],\n",
       "       [0.72971341],\n",
       "       [0.73358997],\n",
       "       [0.72756875],\n",
       "       [0.71087988],\n",
       "       [0.7438069 ],\n",
       "       [0.72526076],\n",
       "       [0.73708884],\n",
       "       [0.7775296 ],\n",
       "       [0.71814412],\n",
       "       [0.69647906],\n",
       "       [0.74178594],\n",
       "       [0.74733995],\n",
       "       [0.67350835]])"
      ]
     },
     "execution_count": 104,
     "metadata": {},
     "output_type": "execute_result"
    }
   ],
   "source": [
    "model.predict(x_test)"
   ]
  },
  {
   "cell_type": "code",
   "execution_count": null,
   "metadata": {},
   "outputs": [],
   "source": []
  }
 ],
 "metadata": {
  "kernelspec": {
   "display_name": "Python 3",
   "language": "python",
   "name": "python3"
  },
  "language_info": {
   "codemirror_mode": {
    "name": "ipython",
    "version": 3
   },
   "file_extension": ".py",
   "mimetype": "text/x-python",
   "name": "python",
   "nbconvert_exporter": "python",
   "pygments_lexer": "ipython3",
   "version": "3.6.4"
  }
 },
 "nbformat": 4,
 "nbformat_minor": 2
}
