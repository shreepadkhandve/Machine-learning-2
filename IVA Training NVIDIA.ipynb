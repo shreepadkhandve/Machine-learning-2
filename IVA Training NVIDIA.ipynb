{
 "cells": [
  {
   "cell_type": "markdown",
   "metadata": {},
   "source": [
    "# Intelligence Video Analytics "
   ]
  },
  {
   "cell_type": "markdown",
   "metadata": {},
   "source": [
    "There are three terms covered in workshop"
   ]
  },
  {
   "cell_type": "raw",
   "metadata": {},
   "source": [
    "1.Docker\n",
    "2.TensorRT\n",
    "3.DeepStream"
   ]
  },
  {
   "cell_type": "markdown",
   "metadata": {},
   "source": [
    "# Libraries To Know for IVA"
   ]
  },
  {
   "cell_type": "markdown",
   "metadata": {},
   "source": [
    "Nifty Net "
   ]
  },
  {
   "cell_type": "raw",
   "metadata": {},
   "source": [
    "Tensorflow based open-source CNN library for medical image analysis for research in medical images, segmentation, regression, image generation and presentation."
   ]
  },
  {
   "cell_type": "markdown",
   "metadata": {},
   "source": [
    "Matplotlib"
   ]
  },
  {
   "cell_type": "raw",
   "metadata": {},
   "source": [
    "for NII format images - matplotlib is only suitable for detection. in \n",
    "CT scan segmentation.\n",
    "\n",
    "What is a NII file?\n",
    "The NII file type is primarily associated with NIfTI-1 Data Format by Neuroimaging Informatics Technology Initiative."
   ]
  },
  {
   "cell_type": "markdown",
   "metadata": {},
   "source": [
    "SRGAN "
   ]
  },
  {
   "cell_type": "raw",
   "metadata": {},
   "source": [
    "Framework - To get high resolution image. converting low resolution image to high resolution is called superresolution\n",
    "\n",
    "Neural Enhance - can be zoom in to images at 2X or 4X .\n",
    "better resolution can be obtained."
   ]
  },
  {
   "cell_type": "markdown",
   "metadata": {},
   "source": [
    "Generator Network"
   ]
  },
  {
   "cell_type": "raw",
   "metadata": {},
   "source": [
    "Tesla M40 GPU - For Training."
   ]
  },
  {
   "cell_type": "markdown",
   "metadata": {},
   "source": [
    "UFF TensorRT"
   ]
  },
  {
   "cell_type": "raw",
   "metadata": {},
   "source": [
    "The uff package contains a set of utilites to convert trained models from various frameworks to a common format."
   ]
  },
  {
   "cell_type": "markdown",
   "metadata": {},
   "source": [
    "# DeepStream"
   ]
  },
  {
   "cell_type": "markdown",
   "metadata": {},
   "source": [
    "Analyze Data From Cameras, Sensors and IoT Gateways in Real-Time"
   ]
  },
  {
   "cell_type": "raw",
   "metadata": {},
   "source": [
    "\n",
    "With more than a billion cameras and sensors continuously generating video streams and data, getting real-time actionable insights is more challenging than ever. NVIDIA’s DeepStream SDK delivers a complete streaming analytics toolkit for situational awareness through intelligent video analytics (IVA) and multi-sensor processing.\n",
    "\n",
    "for reference - https://developer.nvidia.com/deepstream-sdk"
   ]
  },
  {
   "cell_type": "markdown",
   "metadata": {},
   "source": [
    "# Libraries To Know for DeepStream"
   ]
  },
  {
   "cell_type": "markdown",
   "metadata": {},
   "source": [
    "Gstreamer"
   ]
  },
  {
   "cell_type": "raw",
   "metadata": {},
   "source": [
    "Framework for analyzing video"
   ]
  },
  {
   "cell_type": "markdown",
   "metadata": {},
   "source": [
    "# Terms in DeepStream depend on usecase"
   ]
  },
  {
   "cell_type": "raw",
   "metadata": {},
   "source": [
    "\n",
    "1.Running multiple streams on single model\n",
    "\n",
    "2.Running multiple streams multiple models \n",
    "\n",
    "3.Multiple models on single stream\n",
    "\n",
    "4.single model on single stream\n"
   ]
  },
  {
   "cell_type": "markdown",
   "metadata": {},
   "source": [
    "# First Usecase"
   ]
  },
  {
   "cell_type": "raw",
   "metadata": {},
   "source": [
    "\n",
    "1.suppose i have one application which is ready to publish in production.\n",
    "\n",
    "2.i need to allocate one virtual machine with some RAM and some hard disk memory.\n",
    "\n",
    "3.if you take 4GB RAM and 500GB hard disk.\n",
    "\n",
    "4.but your application needs only 2GB RAM and 300GB hard disk.\n",
    "\n",
    "5.so the remaining memory will be waste.\n",
    "\n",
    "6.if your application need 8GB RAM the you need to allocate new virtual machine with new resources.\n",
    "\n",
    "7.you cant predict how much memory and the hard disk your application need exactly.\n"
   ]
  },
  {
   "cell_type": "markdown",
   "metadata": {},
   "source": [
    "# Second  Usecase"
   ]
  },
  {
   "cell_type": "raw",
   "metadata": {},
   "source": [
    "\n",
    "1.suppose your application is ready its working fine on your local system.\n",
    "\n",
    "2.But when you deploy it in production it gives some errors and dependency issues.\n",
    "\n",
    "3.There may be errors due to path or any library or any issue.\n",
    "\n",
    "4.Thats why it gets fail due to some reason.\n"
   ]
  },
  {
   "cell_type": "markdown",
   "metadata": {},
   "source": [
    "problems existing without docker?"
   ]
  },
  {
   "cell_type": "raw",
   "metadata": {},
   "source": [
    "\n",
    "1.Configuration from development to development.\n",
    "\n",
    "2.Time consuming process for configuration and application setup.\n",
    "\n",
    "3.It is very difficult to resolve dependency issues on server side when the code is ready to publish.\n",
    "\n",
    "4.Scaling of application is as much painful as deploying.\n"
   ]
  },
  {
   "cell_type": "markdown",
   "metadata": {},
   "source": [
    "# Docker"
   ]
  },
  {
   "cell_type": "markdown",
   "metadata": {},
   "source": [
    "What is docker?"
   ]
  },
  {
   "cell_type": "raw",
   "metadata": {},
   "source": [
    "1.Docker is operating system level virtualization which works on containarization philosophy.\n",
    "\n",
    "2.That means you want to publish application then you can take one container take the application in container install the packages you require and test it and then deploy it.\n",
    "\n",
    "3.Suppose you installed apache or ngnix server in one container and database related resouces in second container.\n",
    "\n",
    "4.Then the both the container is isolated to each other so it can run on one host machine with using their RAM and Hard Disk.\n",
    "\n",
    "5.So you can make thousand of container like this and you dont need to configure any RAM and Hard Disk.\n",
    "\n",
    "6.So here our wastage is zero.\n"
   ]
  },
  {
   "cell_type": "markdown",
   "metadata": {},
   "source": [
    "what problem does docker solve?"
   ]
  },
  {
   "cell_type": "raw",
   "metadata": {},
   "source": [
    "\n",
    "1.So you take one container and install all the libraries and run your application and test it if it is working fine then you can make an image of that container , image means a container with proper setup of application with their path , libraries and configurations, tested ok.\n",
    "\n",
    "2.You can easily pull that image in production then it will run without facing any error because all the setup are done properly in the container.\n",
    "\n",
    "3.You can use microservices architecture with docker.\n",
    "\n",
    "4.That means you can make individual models of your project.\n",
    "\n",
    "5.Run it individually in different container.\n",
    "\n",
    "6.So the benefit of decoupled model is their is always availability of your application.\n",
    "\n",
    "7.if any model facing some issues then only that model are not in working other application will working continuously.\n",
    "\n",
    "8.So the scaling is easy and no fear of website down.\n"
   ]
  },
  {
   "cell_type": "markdown",
   "metadata": {},
   "source": [
    "installing docker on windows?"
   ]
  },
  {
   "cell_type": "raw",
   "metadata": {},
   "source": [
    "1.go to browser and hit https://hub.docker.com/   - signup with docker\n",
    "\n",
    "2.go to browser and hit download docker ---> open first link install docker on windows ---> click \n",
    "\n",
    "on download from docker hub ---> click login to download ---> click on get docker desktop for \n",
    "\n",
    "windows stable.(size = 541 MB)"
   ]
  },
  {
   "cell_type": "markdown",
   "metadata": {},
   "source": [
    "Getting started with docker?"
   ]
  },
  {
   "cell_type": "raw",
   "metadata": {},
   "source": [
    "Some important terms in docker-\n",
    "\n",
    "Image - it is a read-only layer that is the base of your container.\n",
    "\n",
    "Container - It is just runnable instance of your image.\n",
    "\n",
    "Hub or Registry - It is the place where all publically published images live. \n",
    "\n",
    "Dockerfile - used to create customized image.\n",
    "\n",
    "Docker machine - It is a virtual machine where you run your docker container.\n",
    "\n",
    "Docker compose - It is a utility to run multiple containers as a utility of containers.\n",
    "\n",
    "Docker swarm - used to manage multiple containers and has similar functionality like kubernates.It is not much populer in market.\n"
   ]
  },
  {
   "cell_type": "raw",
   "metadata": {},
   "source": [
    "Suppose you have one application\n",
    "\n",
    "\n",
    "Your Application ----> Docker Image ----> install python3 ---->install pip3 ----> copy your \n",
    "\n",
    "application source code ----> install necessary python modules ----> expose port ---->make the \n",
    "\n",
    "container executable ----> This is your final docker image ----> push this docker image to docker\n",
    "\n",
    "hub ----> other people can easilly pull and use it.\n"
   ]
  },
  {
   "cell_type": "markdown",
   "metadata": {},
   "source": [
    "# Commandas of Docker"
   ]
  },
  {
   "cell_type": "raw",
   "metadata": {},
   "source": [
    "Basic Commands - \n",
    "\n",
    "$ docker ps                  ----> show all running container\n",
    "$ docker ps -a               ----> show all container (stopped and running)\n",
    "$ docker images              ----> show images details\n",
    "$ docker pull Image_Name     ----> download an image"
   ]
  },
  {
   "cell_type": "raw",
   "metadata": {},
   "source": [
    "Start and Stop -\n",
    "\n",
    "$ docker start container_name  ----> start the container\n",
    "$ docker stop container_name   ----> stop the container"
   ]
  },
  {
   "cell_type": "raw",
   "metadata": {},
   "source": [
    "Create and Start Container , run command -\n",
    "\n",
    "$ docker run -it --name Container_Name Image_Name\n",
    "example - docker run -it --name MyProject ubuntu:latest\n"
   ]
  },
  {
   "cell_type": "raw",
   "metadata": {},
   "source": [
    "Remove and kill -\n",
    "\n",
    "$ docker rm OR docker ps -a -q      ----> remove all stopped containers\n",
    "$ docker kill OR docker ps -q       ----> remove all running containers\n"
   ]
  },
  {
   "cell_type": "markdown",
   "metadata": {},
   "source": [
    "# Practical"
   ]
  },
  {
   "cell_type": "raw",
   "metadata": {},
   "source": [
    "create one docker container\n",
    "\n",
    "$ docker run -it --name MyProject ubuntu:latest\n",
    "\n",
    "$ docker ps\n",
    "\n",
    "$ apt-get update\n",
    "$ apt-get install python3-dev\n",
    "$ apt-get install python3-pip\n",
    "$ apt-get install vim\n",
    "\n",
    "\n",
    "$ docker attach Container_Id    ----> for entering in existing container\n",
    "\n",
    "\n",
    "$ docker commit CONTAINER_ID REPOSITORY_NAME\n",
    "$ docker tag trial:latest balasahebgulave/trial:latest\n",
    "$ docker push balasahebgulave/trial:latest"
   ]
  },
  {
   "cell_type": "code",
   "execution_count": null,
   "metadata": {},
   "outputs": [],
   "source": []
  }
 ],
 "metadata": {
  "kernelspec": {
   "display_name": "Python 3",
   "language": "python",
   "name": "python3"
  },
  "language_info": {
   "codemirror_mode": {
    "name": "ipython",
    "version": 3
   },
   "file_extension": ".py",
   "mimetype": "text/x-python",
   "name": "python",
   "nbconvert_exporter": "python",
   "pygments_lexer": "ipython3",
   "version": "3.6.4"
  }
 },
 "nbformat": 4,
 "nbformat_minor": 2
}
